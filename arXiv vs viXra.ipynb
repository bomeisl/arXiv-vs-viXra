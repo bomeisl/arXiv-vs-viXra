{
 "cells": [
  {
   "cell_type": "code",
   "execution_count": null,
   "metadata": {
    "collapsed": true
   },
   "outputs": [],
   "source": [
    "import tensorflow as tf\n",
    "import sklearn as sk\n",
    "SESS = tf.InteractiveSession()\n",
    "\n",
    "from models.conv import load_dataset, split_dataset"
   ]
  },
  {
   "cell_type": "markdown",
   "metadata": {},
   "source": [
    "# Evaluating on test set"
   ]
  },
  {
   "cell_type": "code",
   "execution_count": 3,
   "metadata": {
    "collapsed": false
   },
   "outputs": [],
   "source": [
    "VOCAB_SIZE = 4096\n",
    "PHRASE_LENGTH = 300\n",
    "data, vocab = load_dataset('data/data.json', PHRASE_LENGTH, \n",
    "                           vocab_size=VOCAB_SIZE, retvocab=True)\n",
    "# drop the training set\n",
    "_, data = split_dataset(data, test_size=0.2, random_state=np.random.RandomState(314))"
   ]
  },
  {
   "cell_type": "code",
   "execution_count": 4,
   "metadata": {
    "collapsed": false
   },
   "outputs": [
    {
     "name": "stdout",
     "output_type": "stream",
     "text": [
      "INFO:tensorflow:Restoring parameters from /tmp/tf-checkpoints/words/model.ckpt-1\n"
     ]
    }
   ],
   "source": [
    "saver = tf.train.import_meta_graph('/tmp/tf-checkpoints/words/model.ckpt-0.meta')\n",
    "saver.restore(SESS, tf.train.latest_checkpoint('/tmp/tf-checkpoints/words/'))"
   ]
  },
  {
   "cell_type": "code",
   "execution_count": 5,
   "metadata": {
    "collapsed": false
   },
   "outputs": [],
   "source": [
    "graph = tf.get_default_graph()\n",
    "word_idx = graph.get_tensor_by_name('word_idx:0')\n",
    "phrase_lengths = graph.get_tensor_by_name('phrase_lengths:0')\n",
    "predict_prob = graph.get_tensor_by_name('prob:0')"
   ]
  },
  {
   "cell_type": "code",
   "execution_count": 6,
   "metadata": {
    "collapsed": false
   },
   "outputs": [
    {
     "data": {
      "text/plain": [
       "(array([ 1350.,   141.,    67.,    38.,    38.,    39.,    43.,    54.,\n",
       "          124.,   823.]),\n",
       " array([  7.25218456e-07,   9.99966592e-02,   1.99992593e-01,\n",
       "          2.99988527e-01,   3.99984461e-01,   4.99980395e-01,\n",
       "          5.99976329e-01,   6.99972263e-01,   7.99968197e-01,\n",
       "          8.99964131e-01,   9.99960065e-01]),\n",
       " <a list of 10 Patch objects>)"
      ]
     },
     "execution_count": 6,
     "metadata": {},
     "output_type": "execute_result"
    },
    {
     "data": {
      "image/png": "[encoded data removed]",
      "text/plain": [
       "<matplotlib.figure.Figure at 0x11ee974a8>"
      ]
     },
     "metadata": {
      "image/png": {
       "height": 304,
       "width": 500
      }
     },
     "output_type": "display_data"
    }
   ],
   "source": [
    "p_pred = SESS.run(predict_prob, feed_dict={word_idx: data.word_idx,\n",
    "                                           phrase_lengths: data.phrase_lengths})\n",
    "\n",
    "pl.hist(p_pred)"
   ]
  },
  {
   "cell_type": "code",
   "execution_count": 7,
   "metadata": {
    "collapsed": false,
    "deletable": true,
    "editable": true
   },
   "outputs": [
    {
     "name": "stdout",
     "output_type": "stream",
     "text": [
      "Accuracy on training set: 0.9407434670592565\n"
     ]
    }
   ],
   "source": [
    "accuracy = sk.metrics.accuracy_score(data.labels, p_pred > .5)\n",
    "print(f\"Accuracy on training set: {accuracy}\")"
   ]
  },
  {
   "cell_type": "code",
   "execution_count": 8,
   "metadata": {
    "collapsed": false
   },
   "outputs": [
    {
     "data": {
      "text/plain": [
       "array([[1556,   83],\n",
       "       [  78, 1000]])"
      ]
     },
     "execution_count": 8,
     "metadata": {},
     "output_type": "execute_result"
    }
   ],
   "source": [
    "sk.metrics.confusion_matrix(data.labels, p_pred > .5)"
   ]
  },
  {
   "cell_type": "markdown",
   "metadata": {},
   "source": [
    "# Testing it on some real world data:"
   ]
  },
  {
   "cell_type": "code",
   "execution_count": 9,
   "metadata": {
    "collapsed": false
   },
   "outputs": [],
   "source": [
    "from preprocess.build_vocab import generate_tokens\n",
    "from nltk.stem import PorterStemmer"
   ]
  },
  {
   "cell_type": "code",
   "execution_count": 10,
   "metadata": {
    "collapsed": true
   },
   "outputs": [],
   "source": [
    "text1 = \"\"\"The outcomes of quantum mechanical experiments are inherently random. It is therefore\n",
    "necessary to develop stringent methods for quantifying the degree of statistical uncertainty about \n",
    "the results of quantum experiments. For the particularly relevant task of quantum state estimation, \n",
    "it has been shown that a significant reduction in uncertainty can be achieved by taking the \n",
    "positivity of quantum states into account. However -- the large number of partial results and \n",
    "heuristics notwithstanding -- no efficient general algorithm is known that produces an optimal \n",
    "uncertainty region from experimental data and the prior constraint of positivity. Here, we make \n",
    "this problem precise and show that the general case is NP-hard. Our result leaves room for the \n",
    "existence of efficient approximate solutions, and therefore does not yet imply that the practical \n",
    "task of quantum uncertainty quantification is intractable. However, it does show that there exists \n",
    "a non-trivial trade-off between optimality and computational efficiency for error regions. We \n",
    "prove two versions of the result: One for frequentist and one for Bayesian statistics.\"\"\"\n",
    "\n",
    "text2 = \"\"\"Swiss Nanoscience Institute have succeeded in dramatically improving the quality of \n",
    "individual photons generated by a quantum system. [23] Physicists from the University of Basel \n",
    "have developed a memory that can store photons. [22] Scientists at the University of Sydney are \n",
    "entering a new phase of development to scale up the next generation of quantum-engineered devices. \n",
    "[21] Engineers at Australia's University of New South Wales have invented a radical new \n",
    "architecture for quantum computing, based on novel 'flip-flop qubits', that promises to make \n",
    "the large-scale manufacture of quantum chips dramatically cheaper-and easier-than thought \n",
    "possible. [20] A team of researchers from the U.S. and Italy has built a quantum memory device \n",
    "that is approximately 1000 times smaller than similar devices— small enough to install on a chip. \n",
    "[19] The cutting edge of data storage research is working at the level of individual atoms and \n",
    "molecules, representing the ultimate limit of technological miniaturisation. [18] This is an \n",
    "important clue for our theoretical understanding of optically controlled magnetic data storage \n",
    "media. [17] A crystalline material that changes shape in response to light could form the heart \n",
    "of novel light-activated devices. [16] Now a team of Penn State electrical engineers have a way \n",
    "to simultaneously control diverse optical properties of dielectric waveguides by using a two-layer \n",
    "coating, each layer with a near zero thickness and weight. [15] Just like in normal road traffic, \n",
    "crossings are indispensable in optical signal processing. In order to avoid collisions, a clear \n",
    "traffic rule is required. A new method has now been developed at TU Wien to provide such a rule for \n",
    "light signals. [14] \"\"\""
   ]
  },
  {
   "cell_type": "code",
   "execution_count": 24,
   "metadata": {
    "collapsed": false
   },
   "outputs": [],
   "source": [
    "STEMMER = PorterStemmer()\n",
    "\n",
    "def word2vec(text, max_len=PHRASE_LENGTH):\n",
    "    tokens = generate_tokens(text, STEMMER.stem)\n",
    "    vec = [vocab[token] for token in tokens if token in vocab]\n",
    "    phrase_length = len(vec)\n",
    "    word_idx = np.zeros(max_len, dtype=np.int32)\n",
    "    length = min(max_len, len(vec))\n",
    "    word_idx[:length] = vec[:length]\n",
    "    return np.array(word_idx)[None, :], np.array([phrase_length])\n",
    "\n",
    "def classify(text):\n",
    "    x, x_len = word2vec(text)\n",
    "    p = SESS.run(predict_prob, feed_dict={word_idx: x, phrase_lengths: x_len})\n",
    "    return 'arXiv' if p > .5 else 'viXra'"
   ]
  },
  {
   "cell_type": "code",
   "execution_count": 27,
   "metadata": {
    "collapsed": false
   },
   "outputs": [
    {
     "name": "stdout",
     "output_type": "stream",
     "text": [
      "Text 1 is from arXiv.\n",
      "Text 2 is from viXra.\n"
     ]
    }
   ],
   "source": [
    "print(f'Text 1 is from {classify(text1)}.')\n",
    "print(f'Text 2 is from {classify(text2)}.')"
   ]
  },
  {
   "cell_type": "code",
   "execution_count": null,
   "metadata": {
    "collapsed": true
   },
   "outputs": [],
   "source": []
  }
 ],
 "metadata": {
  "hide_input": false,
  "kernelspec": {
   "display_name": "Python [conda env:nlp]",
   "language": "python",
   "name": "conda-env-nlp-py"
  },
  "language_info": {
   "codemirror_mode": {
    "name": "ipython",
    "version": 3
   },
   "file_extension": ".py",
   "mimetype": "text/x-python",
   "name": "python",
   "nbconvert_exporter": "python",
   "pygments_lexer": "ipython3",
   "version": "3.6.2"
  }
 },
 "nbformat": 4,
 "nbformat_minor": 2
}
